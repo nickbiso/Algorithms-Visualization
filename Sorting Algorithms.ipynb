{
 "cells": [
  {
   "cell_type": "code",
   "execution_count": 20,
   "metadata": {
    "collapsed": true
   },
   "outputs": [],
   "source": [
    "import numpy as np\n",
    "import pandas as pd\n",
    "import random\n",
    "import matplotlib.pyplot as plt\n",
    "import matplotlib.animation as animation"
   ]
  },
  {
   "cell_type": "code",
   "execution_count": 28,
   "metadata": {
    "collapsed": true
   },
   "outputs": [],
   "source": [
    "class random_nos:\n",
    "    def __init__(self,size,max_num = 1000):\n",
    "        self.rand_list = random.sample(range(0,max_num), size)\n",
    "        self.i = 0\n",
    "        self.max_num = max_num\n",
    "        self.size = size\n",
    "        \n",
    "    def generate(self):\n",
    "        self.rand_list = random.sample(range(0,self.max_num), self.size)\n",
    "        return self.rand_list\n",
    "        \n",
    "    def visualize(self):\n",
    "        length = len(self.rand_list)\n",
    "        index = np.arange(length)\n",
    "        color = ['gray']*length\n",
    "        #color[self.i] = 'blue'\n",
    "        #color[self.i+1] = 'blue'\n",
    "        fig = plt.figure()\n",
    "        plt.bar(index, test.rand_list,color=color)\n",
    "        plt.xticks(index)\n",
    "        plt.Figure(figsize=(10,10))\n",
    "        plt.show()\n",
    "        #self.i += 1\n",
    "        \n",
    "       \n",
    "\n",
    "        \n",
    "    \n",
    "    "
   ]
  },
  {
   "cell_type": "code",
   "execution_count": 29,
   "metadata": {},
   "outputs": [],
   "source": [
    "test = random_nos(25)"
   ]
  },
  {
   "cell_type": "code",
   "execution_count": 30,
   "metadata": {},
   "outputs": [
    {
     "data": {
      "image/png": "[encoded data removed]",
      "text/plain": [
       "<matplotlib.figure.Figure at 0x28849c7f4a8>"
      ]
     },
     "metadata": {},
     "output_type": "display_data"
    }
   ],
   "source": [
    "test.visualize()"
   ]
  },
  {
   "cell_type": "code",
   "execution_count": 31,
   "metadata": {
    "scrolled": true
   },
   "outputs": [
    {
     "name": "stderr",
     "output_type": "stream",
     "text": [
      "C:\\Users\\nickj\\AppData\\Local\\Continuum\\Anaconda3\\envs\\py35\\lib\\site-packages\\matplotlib\\animation.py:1021: UserWarning: MovieWriter pillow unavailable\n",
      "  warnings.warn(\"MovieWriter %s unavailable\" % writer)\n"
     ]
    }
   ],
   "source": [
    "length = 25\n",
    "index = np.arange(length)\n",
    "\n",
    "fig = plt.figure(figsize=(8, 4))\n",
    "plt.xticks(index)\n",
    "\n",
    "test = random_nos(length)\n",
    "\n",
    "data = []\n",
    "colors = []\n",
    "titles = []\n",
    "\n",
    "for i in range(100):\n",
    "    color = ['gray']*length\n",
    "    random_int = random.randint(1,length-2)\n",
    "    color[random_int] = 'blue'\n",
    "    color[random_int+1] = 'blue'\n",
    "    colors.append(color)\n",
    "\n",
    "    \n",
    "    data.append(test.generate())\n",
    "    titles.append('Step: ' + str(random_int))\n",
    "\n",
    "\n",
    "rects = plt.bar(index, data[0],color=colors[0])\n",
    "#ttl = plt.text(10,1050,titles[0])\n",
    "\n",
    "\n",
    "def animate(i):\n",
    "    #for rect, yi,c,t in zip(rects, data[i],colors[i],titles[i]):\n",
    "    for rect, yi,c in zip(rects, data[i],colors[i]):\n",
    "    #for rect, yi in zip(rects, data[i]):\n",
    "        rect.set_height(yi)\n",
    "        rect.set_color(c)\n",
    "        #ttl.set_text(t)\n",
    "        #plt.draw()\n",
    "        \n",
    "    return rects\n",
    "\n",
    "anim = animation.FuncAnimation(fig, animate, frames=len(data), interval=250,)\n",
    "anim.save('bar.mp4', writer='pillow')#, dpi = 100)\n"
   ]
  },
  {
   "cell_type": "code",
   "execution_count": 32,
   "metadata": {},
   "outputs": [
    {
     "data": {
      "text/html": [
       "\n",
       "    <video alt=\"test\" controls>\n",
       "        <source src=\"bar.mp4\" type=\"video/mp4\">\n",
       "    </video>\n"
      ],
      "text/plain": [
       "<IPython.core.display.HTML object>"
      ]
     },
     "execution_count": 32,
     "metadata": {},
     "output_type": "execute_result"
    }
   ],
   "source": [
    "from IPython.display import HTML\n",
    "\n",
    "HTML(\"\"\"\n",
    "    <video alt=\"test\" controls>\n",
    "        <source src=\"bar.mp4\" type=\"video/mp4\">\n",
    "    </video>\n",
    "\"\"\")"
   ]
  },
  {
   "cell_type": "code",
   "execution_count": null,
   "metadata": {
    "collapsed": true
   },
   "outputs": [],
   "source": []
  }
 ],
 "metadata": {
  "kernelspec": {
   "display_name": "Python 3",
   "language": "python",
   "name": "python3"
  },
  "language_info": {
   "codemirror_mode": {
    "name": "ipython",
    "version": 3
   },
   "file_extension": ".py",
   "mimetype": "text/x-python",
   "name": "python",
   "nbconvert_exporter": "python",
   "pygments_lexer": "ipython3",
   "version": "3.5.3"
  }
 },
 "nbformat": 4,
 "nbformat_minor": 2
}
