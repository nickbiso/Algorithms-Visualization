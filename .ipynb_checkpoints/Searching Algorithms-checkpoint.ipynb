{
 "cells": [
  {
   "cell_type": "code",
   "execution_count": 1,
   "metadata": {
    "collapsed": true
   },
   "outputs": [],
   "source": [
    "import numpy as np\n",
    "import pandas as pd\n",
    "import random\n",
    "import matplotlib.pyplot as plt\n",
    "import matplotlib.animation as animation\n",
    "from IPython.display import HTML"
   ]
  },
  {
   "cell_type": "code",
   "execution_count": 2,
   "metadata": {
    "collapsed": true
   },
   "outputs": [],
   "source": [
    "class randomNos:\n",
    "    def __init__(self,size,min_num = 1,max_num = 1000):\n",
    "        self.min_num = min_num\n",
    "        self.max_num = max_num\n",
    "        self.size = size\n",
    "        self.frames = []\n",
    "        self.colors = []\n",
    "        self.index = np.arange(size) \n",
    "        self.base_colors = ['gray']*self.size\n",
    "        \n",
    "    def generate(self):\n",
    "        '''\n",
    "        Generate random integers from min_num to max_num and assign it to rand_list\n",
    "        '''\n",
    "        self.rand_list = random.sample(range(self.min_num,self.max_num), self.size)\n",
    "        \n",
    "        \n",
    "    def sort(self):\n",
    "        '''\n",
    "        Sorts generated random integers in rand_list\n",
    "        '''\n",
    "        self.rand_list.sort()\n",
    "        \n",
    "    def visualize(self):\n",
    "        '''\n",
    "        Create a bar plot of rand_list\n",
    "        '''\n",
    "        plt.bar(self.index, self.rand_list,color=self.base_colors)\n",
    "        plt.xticks([])\n",
    "        plt.show()\n",
    "        \n",
    "    def saveVideo(self,filename = 'bar'):\n",
    "        '''\n",
    "        Processes data and converts it into video\n",
    "        '''\n",
    "        fig = plt.figure(figsize=(8, 4))\n",
    "        plt.xticks([])\n",
    "        rects = plt.bar(self.index, self.frames[0],color=self.colors[0])\n",
    "        \n",
    "        def animate(i):\n",
    "            for rect, yi,c in zip(rects, self.frames[i],self.colors[i]):\n",
    "                rect.set_height(yi)\n",
    "                rect.set_color(c)\n",
    "            return rects\n",
    "\n",
    "        anim = animation.FuncAnimation(fig, animate, frames=len(x.frames), interval=250)\n",
    "        anim.save(filename + '.mp4', writer='pillow')\n",
    "    \n",
    "    def plot(self):\n",
    "        HTML(\"\"\"<video alt=\"test\" controls>\n",
    "        <source src=\"bar.mp4\" type=\"video/mp4\">\n",
    "    </video>\"\"\")\n",
    "        \n",
    "    def lineSearch(self,target):\n",
    "        self.frames.append(self.rand_list.copy())\n",
    "        self.colors.append(self.base_colors.copy())\n",
    "        \n",
    "        found = False\n",
    "        i=0\n",
    "        \n",
    "        while (found == False) and (i<len(self.rand_list)):\n",
    "            colors_iter = self.colors[-1]\n",
    "            if self.rand_list[i] != target:\n",
    "                colors_iter[i] = 'red'\n",
    "                \n",
    "            else:\n",
    "                colors_iter[i] = 'green'\n",
    "                found = True\n",
    "                \n",
    "            self.colors.append(colors_iter.copy())\n",
    "            self.frames.append(self.rand_list.copy())    \n",
    "            i+=1\n",
    " \n",
    "    def binarySearch(self,target):\n",
    "        self.frames.append(self.rand_list.copy())\n",
    "        self.colors.append(self.base_colors.copy())\n",
    "\n",
    "        low = 0\n",
    "        high = len(self.rand_list)-1\n",
    "        \n",
    "        found = False\n",
    "\n",
    "        while (high>=low) and (found == False):\n",
    "            mid = ((high-low)//2)+low\n",
    "            colors_iter = self.colors[-1]\n",
    "            \n",
    "            if target == self.rand_list[mid]:\n",
    "                colors_iter[mid] = 'green'\n",
    "                found = True\n",
    "                \n",
    "                self.colors.append(colors_iter.copy())\n",
    "                self.frames.append(self.rand_list.copy())\n",
    "                \n",
    "            else:\n",
    "                colors_iter[mid] = 'red'\n",
    "                self.colors.append(colors_iter.copy())\n",
    "                self.frames.append(self.rand_list.copy())\n",
    "\n",
    "                \n",
    "                colors_iter = self.colors[-1]\n",
    "                \n",
    "                if target<self.rand_list[mid]:\n",
    "                    for j in range(mid,high+1):\n",
    "                        colors_iter[j] = 'red'\n",
    "                    high = mid-1\n",
    "\n",
    "                else:\n",
    "                    for j in range(low,mid+1):\n",
    "                        colors_iter[j] = 'red'\n",
    "                    low = mid+1\n",
    "                    \n",
    "                self.colors.append(colors_iter.copy())\n",
    "                self.frames.append(self.rand_list.copy())"
   ]
  },
  {
   "cell_type": "markdown",
   "metadata": {
    "collapsed": true
   },
   "source": [
    "### Line Search"
   ]
  },
  {
   "cell_type": "code",
   "execution_count": 3,
   "metadata": {
    "collapsed": true
   },
   "outputs": [],
   "source": [
    "x = randomNos(15)"
   ]
  },
  {
   "cell_type": "code",
   "execution_count": 4,
   "metadata": {
    "collapsed": true
   },
   "outputs": [],
   "source": [
    "x.generate()"
   ]
  },
  {
   "cell_type": "code",
   "execution_count": 5,
   "metadata": {},
   "outputs": [
    {
     "data": {
      "text/plain": [
       "[825, 667, 851, 691, 627, 709, 73, 831, 123, 336, 719, 279, 46, 798, 86]"
      ]
     },
     "execution_count": 5,
     "metadata": {},
     "output_type": "execute_result"
    }
   ],
   "source": [
    "x.rand_list"
   ]
  },
  {
   "cell_type": "code",
   "execution_count": 6,
   "metadata": {},
   "outputs": [
    {
     "data": {
      "image/png": "[encoded data removed]",
      "text/plain": [
       "<matplotlib.figure.Figure at 0x1edfd943668>"
      ]
     },
     "metadata": {},
     "output_type": "display_data"
    }
   ],
   "source": [
    "x.visualize()"
   ]
  },
  {
   "cell_type": "code",
   "execution_count": 7,
   "metadata": {},
   "outputs": [],
   "source": [
    "x.lineSearch(279)"
   ]
  },
  {
   "cell_type": "code",
   "execution_count": 8,
   "metadata": {},
   "outputs": [
    {
     "name": "stderr",
     "output_type": "stream",
     "text": [
      "C:\\Users\\nickj\\AppData\\Local\\Continuum\\Anaconda3\\envs\\py35\\lib\\site-packages\\matplotlib\\animation.py:1021: UserWarning: MovieWriter pillow unavailable\n",
      "  warnings.warn(\"MovieWriter %s unavailable\" % writer)\n"
     ]
    }
   ],
   "source": [
    "x.saveVideo('line_search')"
   ]
  },
  {
   "cell_type": "code",
   "execution_count": 9,
   "metadata": {},
   "outputs": [
    {
     "data": {
      "text/html": [
       "<video alt=\"test\" controls>\n",
       "        <source src=\"line_search.mp4\" type=\"video/mp4\">\n",
       "        </video>"
      ],
      "text/plain": [
       "<IPython.core.display.HTML object>"
      ]
     },
     "execution_count": 9,
     "metadata": {},
     "output_type": "execute_result"
    }
   ],
   "source": [
    "HTML(\"\"\"<video alt=\"test\" controls>\n",
    "        <source src=\"line_search.mp4\" type=\"video/mp4\">\n",
    "        </video>\"\"\")\n",
    "        "
   ]
  },
  {
   "cell_type": "markdown",
   "metadata": {},
   "source": [
    "### Binary Search"
   ]
  },
  {
   "cell_type": "code",
   "execution_count": 38,
   "metadata": {
    "collapsed": true
   },
   "outputs": [],
   "source": [
    "x = randomNos(50)"
   ]
  },
  {
   "cell_type": "code",
   "execution_count": 39,
   "metadata": {
    "collapsed": true
   },
   "outputs": [],
   "source": [
    "x.generate()"
   ]
  },
  {
   "cell_type": "code",
   "execution_count": 40,
   "metadata": {
    "collapsed": true
   },
   "outputs": [],
   "source": [
    "x.sort()"
   ]
  },
  {
   "cell_type": "code",
   "execution_count": 34,
   "metadata": {},
   "outputs": [
    {
     "data": {
      "image/png": "[encoded data removed]",
      "text/plain": [
       "<matplotlib.figure.Figure at 0x1edff141128>"
      ]
     },
     "metadata": {},
     "output_type": "display_data"
    }
   ],
   "source": [
    "x.visualize()"
   ]
  },
  {
   "cell_type": "code",
   "execution_count": 42,
   "metadata": {},
   "outputs": [],
   "source": [
    "x.binarySearch(813)"
   ]
  },
  {
   "cell_type": "code",
   "execution_count": 43,
   "metadata": {},
   "outputs": [
    {
     "name": "stderr",
     "output_type": "stream",
     "text": [
      "C:\\Users\\nickj\\AppData\\Local\\Continuum\\Anaconda3\\envs\\py35\\lib\\site-packages\\matplotlib\\animation.py:1021: UserWarning: MovieWriter pillow unavailable\n",
      "  warnings.warn(\"MovieWriter %s unavailable\" % writer)\n"
     ]
    }
   ],
   "source": [
    "x.saveVideo('binary_search')"
   ]
  },
  {
   "cell_type": "code",
   "execution_count": 44,
   "metadata": {},
   "outputs": [
    {
     "data": {
      "text/html": [
       "<video alt=\"test\" controls>\n",
       "        <source src=\"binary_search.mp4\" type=\"video/mp4\">\n",
       "        </video>"
      ],
      "text/plain": [
       "<IPython.core.display.HTML object>"
      ]
     },
     "execution_count": 44,
     "metadata": {},
     "output_type": "execute_result"
    }
   ],
   "source": [
    "HTML(\"\"\"<video alt=\"test\" controls>\n",
    "        <source src=\"binary_search.mp4\" type=\"video/mp4\">\n",
    "        </video>\"\"\")\n",
    "        "
   ]
  },
  {
   "cell_type": "code",
   "execution_count": null,
   "metadata": {
    "collapsed": true
   },
   "outputs": [],
   "source": []
  },
  {
   "cell_type": "code",
   "execution_count": null,
   "metadata": {
    "collapsed": true
   },
   "outputs": [],
   "source": []
  },
  {
   "cell_type": "code",
   "execution_count": null,
   "metadata": {
    "collapsed": true
   },
   "outputs": [],
   "source": []
  }
 ],
 "metadata": {
  "kernelspec": {
   "display_name": "Python 3",
   "language": "python",
   "name": "python3"
  },
  "language_info": {
   "codemirror_mode": {
    "name": "ipython",
    "version": 3
   },
   "file_extension": ".py",
   "mimetype": "text/x-python",
   "name": "python",
   "nbconvert_exporter": "python",
   "pygments_lexer": "ipython3",
   "version": "3.5.3"
  }
 },
 "nbformat": 4,
 "nbformat_minor": 2
}
